{
 "cells": [
  {
   "cell_type": "code",
   "execution_count": 1,
   "metadata": {},
   "outputs": [
    {
     "name": "stderr",
     "output_type": "stream",
     "text": [
      "2023-04-22 23:34:46,077 - INFO - Download link: \n",
      "http://firds.esma.europa.eu/firds/DLTINS_20210117_01of01.zip\n",
      "            \n"
     ]
    }
   ],
   "source": [
    "import xml.etree.ElementTree as ET\n",
    "import logging\n",
    "\n",
    "logging.basicConfig(level=logging.INFO, format='%(asctime)s - %(levelname)s - %(message)s')\n",
    "\n",
    "def get_download_link(xml_file):\n",
    "    \"\"\"\n",
    "    Parses the given XML file and returns the first download link found in it.\n",
    "\n",
    "    :param xml_file: Path to the XML file\n",
    "    :return: The first download link found in the XML file\n",
    "    \"\"\"\n",
    "    try:\n",
    "        # Parse the XML file\n",
    "        tree = ET.parse(xml_file)\n",
    "\n",
    "        # Get the root element\n",
    "        root = tree.getroot()\n",
    "\n",
    "        # Find the first download link\n",
    "        download_link = root.find(\".//doc/str[@name='download_link']\").text\n",
    "\n",
    "        return download_link\n",
    "\n",
    "    except Exception as e:\n",
    "        logging.error(f\"Error while parsing the XML file: {e}\")\n",
    "        return None\n",
    "\n",
    "\n",
    "\n",
    "download_link = get_download_link('response.xml')\n",
    "if download_link:\n",
    "    logging.info(f\"Download link: {download_link}\")\n",
    "else:\n",
    "    logging.error(\"Could not get download link.\")\n"
   ]
  },
  {
   "cell_type": "code",
   "execution_count": 2,
   "metadata": {},
   "outputs": [
    {
     "name": "stderr",
     "output_type": "stream",
     "text": [
      "2023-04-22 23:35:41,255 - INFO - Downloaded DLTINS_20210118_01of01.zip from \n",
      "http://firds.esma.europa.eu/firds/DLTINS_20210117_01of01.zip\n",
      "             successfully\n"
     ]
    }
   ],
   "source": [
    "import urllib.request\n",
    "import logging\n",
    "\n",
    "\n",
    "def download_file(url: str, filename: str):\n",
    "    \"\"\"\n",
    "    Download a file from the given URL and save it to the specified filename.\n",
    "\n",
    "    Args:\n",
    "        url (str): The URL of the file to download.\n",
    "        filename (str): The name to save the downloaded file as.\n",
    "    \"\"\"\n",
    "    try:\n",
    "        # Download the file.\n",
    "        urllib.request.urlretrieve(url, filename)\n",
    "    except Exception as e:\n",
    "        # Log any errors that occur.\n",
    "        logging.error(f\"Error downloading file from {url}: {e}\")\n",
    "    else:\n",
    "        # Log a success message if the file downloaded successfully.\n",
    "        logging.info(f\"Downloaded {filename} from {url} successfully\")\n",
    "\n",
    "\n",
    "\n",
    "download_file(download_link, 'DLTINS_20210118_01of01.zip')\n"
   ]
  },
  {
   "cell_type": "code",
   "execution_count": 3,
   "metadata": {},
   "outputs": [
    {
     "name": "stderr",
     "output_type": "stream",
     "text": [
      "2023-04-22 23:35:41,354 - INFO - The file 'DLTINS_20210118_01of01.zip' size is 4.23 MB\n",
      "2023-04-22 23:35:41,356 - INFO - File size in MB: 4.229082107543945\n"
     ]
    }
   ],
   "source": [
    "import os\n",
    "import logging\n",
    "\n",
    "logging.getLogger().handlers = []\n",
    "\n",
    "# Set up the logger\n",
    "logging.basicConfig(level=logging.INFO, format='%(asctime)s - %(levelname)s - %(message)s')\n",
    "\n",
    "def get_file_size(filename):\n",
    "    \"\"\"Get the size of a file in MB.\n",
    "\n",
    "    Args:\n",
    "        filename (str): The name of the file.\n",
    "\n",
    "    Returns:\n",
    "        float: The size of the file in MB.\n",
    "    \"\"\"\n",
    "    file_size = os.path.getsize(filename)\n",
    "    file_size_mb = file_size / (1024 * 1024)  # convert bytes to megabytes\n",
    "    logging.info(f\"The file '{filename}' size is {file_size_mb:.2f} MB\")\n",
    "    return file_size_mb\n",
    "\n",
    "# Call the function with a filename\n",
    "filename = 'DLTINS_20210118_01of01.zip'\n",
    "file_size_mb = get_file_size(filename)\n",
    "logging.info(f\"File size in MB: {file_size_mb}\")\n"
   ]
  },
  {
   "cell_type": "code",
   "execution_count": 4,
   "metadata": {},
   "outputs": [],
   "source": [
    "import logging\n",
    "import zipfile\n",
    "\n",
    "logging.getLogger().handlers = []\n",
    "\n",
    "# Create a logger with a specific name.\n",
    "logger = logging.getLogger(__name__)\n",
    "\n",
    "def extract_zip_file(zip_file_path: str):\n",
    "    \"\"\"\n",
    "    Extract all files in a zip file to the current directory.\n",
    "\n",
    "    Args:\n",
    "        zip_file_path: A string representing the path of the zip file to be extracted.\n",
    "\n",
    "    Returns:\n",
    "        None\n",
    "    \"\"\"\n",
    "    # Open the zip file.\n",
    "    with zipfile.ZipFile(zip_file_path, 'r') as zip_ref:\n",
    "        # Extract all the files in the zip file to the current directory.\n",
    "        zip_ref.extractall()\n",
    "\n",
    "    # Log a message indicating that the zip file has been extracted successfully.\n",
    "    logger.info(f\"All files in '{zip_file_path}' have been extracted successfully.\")\n",
    "\n",
    "# Call the extract_zip_file function with the path of the zip file as argument.\n",
    "extract_zip_file('DLTINS_20210118_01of01.zip')\n",
    "\n"
   ]
  },
  {
   "cell_type": "code",
   "execution_count": 5,
   "metadata": {},
   "outputs": [
    {
     "name": "stderr",
     "output_type": "stream",
     "text": [
      "INFO:root:The file 'DLTINS_20210117_01of01.xml' size is 136.64 MB\n",
      "INFO:root:File size in MB: 136.640606880188\n"
     ]
    }
   ],
   "source": [
    "# Call the function with a filename\n",
    "filename = 'DLTINS_20210117_01of01.xml'\n",
    "file_size_mb = get_file_size(filename)\n",
    "logging.info(f\"File size in MB: {file_size_mb}\")"
   ]
  },
  {
   "cell_type": "code",
   "execution_count": 6,
   "metadata": {
    "collapsed": false
   },
   "outputs": [],
   "source": [
    "import xml.etree.ElementTree as ET\n",
    "import logging\n",
    "\n",
    "logging.basicConfig(filename='xml_namespace.log', level=logging.DEBUG, \n",
    "                    format='%(asctime)s %(levelname)s %(message)s')\n",
    "\n",
    "def remove_xml_namespace(file_path):\n",
    "    \"\"\"\n",
    "    Removes all namespaces from an XML file.\n",
    "\n",
    "    :param file_path: The path of the XML file to modify.\n",
    "    :type file_path: str\n",
    "    \"\"\"\n",
    "    try:\n",
    "        # Parse the XML file.\n",
    "        tree = ET.parse(file_path)\n",
    "        root = tree.getroot()\n",
    "\n",
    "        # Remove namespaces from all elements and their children recursively.\n",
    "        for elem in root.iter():\n",
    "            # Remove the namespace prefix from the tag.\n",
    "            try:\n",
    "                elem.tag = elem.tag.split('}')[-1] if '}' in elem.tag else elem.tag\n",
    "            except AttributeError:\n",
    "                # Log an error message if an element doesn't have a tag.\n",
    "                logging.error(f\"The element {elem} does not have a tag.\")\n",
    "                continue\n",
    "\n",
    "            # Remove any attributes that are in a namespace.\n",
    "            try:\n",
    "                elem.attrib = {k.split('}')[-1] if '}' in k else k:v for k, v in elem.attrib.items()}\n",
    "            except KeyError as e:\n",
    "                # Log an error message if an element doesn't have an attribute with a namespace.\n",
    "                logging.error(f\"The element {elem} does not have the attribute {e}.\")\n",
    "                continue\n",
    "\n",
    "        # Write the modified XML to the same file.\n",
    "        tree.write(file_path, encoding='unicode')\n",
    "\n",
    "    except FileNotFoundError as e:\n",
    "        # Log an error message if the file is not found.\n",
    "        logging.error(f\"The file {file_path} was not found: {e}.\")\n",
    "    except IOError as e:\n",
    "        # Log an error message if there is an error while writing the file.\n",
    "        logging.error(f\"The file {file_path} could not be modified: {e}.\")\n",
    "\n",
    "if __name__ == '__main__':\n",
    "    file_path = 'DLTINS_20210117_01of01.xml'\n",
    "    remove_xml_namespace(file_path)\n"
   ]
  },
  {
   "cell_type": "code",
   "execution_count": 7,
   "metadata": {
    "collapsed": false
   },
   "outputs": [],
   "source": [
    "import xml.etree.ElementTree as ET\n",
    "import csv\n",
    "\n",
    "# This code extracts data from an XML file and writes it to a CSV file.\n",
    "\n",
    "# Parse the XML file.\n",
    "try:\n",
    "    tree = ET.parse('DLTINS_20210117_01of01.xml')\n",
    "    root = tree.getroot()\n",
    "except FileNotFoundError:\n",
    "    print('The file DLTINS_20210117_01of01.xml_without_namespaces.xml was not found.')\n",
    "    exit()\n",
    "\n",
    "# Specify the headers for the CSV file.\n",
    "headers = ['FinInstrmGnlAttrbts.Id', 'FinInstrmGnlAttrbts.FullNm',\n",
    "           'FinInstrmGnlAttrbts.ClssfctnTp', 'FinInstrmGnlAttrbts.CmmdtyDerivInd',\n",
    "           'FinInstrmGnlAttrbts.NtnlCcy', 'Issr']\n",
    "\n",
    "# Open the CSV file for writing.\n",
    "with open('final-output.csv', 'w', newline='') as csv_file:\n",
    "    writer = csv.DictWriter(csv_file, fieldnames=headers)\n",
    "\n",
    "    # Write the headers to the CSV file.\n",
    "    writer.writeheader()\n",
    "\n",
    "    # Iterate over the XML elements and extract the data to write to the CSV file.\n",
    "    for FinInstrmRptgRefDataDltaRpt in root.findall(\".//FinInstrm\"):\n",
    "        # Find the TermntdRcrd element.\n",
    "        termntdrcrd = FinInstrmRptgRefDataDltaRpt.find(\"TermntdRcrd\")\n",
    "\n",
    "        # If the TermntdRcrd element is not None, iterate over the FinInstrmGnlAttrbts elements and extract the data to write to the CSV file.\n",
    "        if termntdrcrd is not None:\n",
    "            for FinInstrmGnlAttrbts in FinInstrmRptgRefDataDltaRpt.iter('FinInstrmGnlAttrbts'):\n",
    "                # Create a dictionary of the data to write to the CSV file.\n",
    "                data = {\n",
    "                    'FinInstrmGnlAttrbts.Id': FinInstrmGnlAttrbts.find('Id').text if FinInstrmGnlAttrbts.find('Id') is not None else '',\n",
    "                    'FinInstrmGnlAttrbts.FullNm': FinInstrmGnlAttrbts.find('FullNm').text if FinInstrmGnlAttrbts.find('FullNm') is not None else '',\n",
    "                    'FinInstrmGnlAttrbts.ClssfctnTp': FinInstrmGnlAttrbts.find('ClssfctnTp').text if FinInstrmGnlAttrbts.find('ClssfctnTp') is not None else '',\n",
    "                    'FinInstrmGnlAttrbts.CmmdtyDerivInd': FinInstrmGnlAttrbts.find('CmmdtyDerivInd').text if FinInstrmGnlAttrbts.find('CmmdtyDerivInd') is not None else '',\n",
    "                    'FinInstrmGnlAttrbts.NtnlCcy': FinInstrmGnlAttrbts.find('NtnlCcy').text if FinInstrmGnlAttrbts.find('NtnlCcy') is not None else '',\n",
    "                    'Issr': termntdrcrd.find('Issr').text if termntdrcrd.find('Issr') is not None else ''\n",
    "                }\n",
    "\n",
    "                # Write the data to the CSV file.\n",
    "                try:\n",
    "                    writer.writerow(data)\n",
    "                except csv.Error:\n",
    "                    print('The CSV file could not be written to.')\n",
    "                    exit()\n",
    "\n"
   ]
  },
  {
   "cell_type": "code",
   "execution_count": 8,
   "metadata": {},
   "outputs": [],
   "source": [
    "import boto3\n",
    "import logging\n",
    "\n",
    "def s3_operations(access_key: str, secret_key: str, region: str, bucket_name: str, filename: str):\n",
    "    \"\"\"\n",
    "    Perform S3 operations including creating a bucket, uploading a file, and downloading a file.\n",
    "\n",
    "    :param access_key: AWS access key ID\n",
    "    :param secret_key: AWS secret access key\n",
    "    :param region: AWS region\n",
    "    :param bucket_name: name of the S3 bucket to create\n",
    "    :param filename: name of the file to upload and download\n",
    "    \"\"\"\n",
    "    # Set up logging\n",
    "    logging.basicConfig(format='%(asctime)s - %(levelname)s - %(message)s', level=logging.INFO)\n",
    "    logger = logging.getLogger(__name__)\n",
    "\n",
    "    # Create an S3 client\n",
    "    s3 = boto3.client('s3', region_name=region, aws_access_key_id=access_key, aws_secret_access_key=secret_key)\n",
    "\n",
    "\n",
    "    # Create a new S3 bucket\n",
    "    s3.create_bucket(Bucket=bucket_name, CreateBucketConfiguration={'LocationConstraint': region})\n",
    "    logger.info(\"Bucket %s created in region %s\", bucket_name, region)\n",
    "\n",
    "    # Upload a file to the bucket\n",
    "    s3.upload_file(filename, bucket_name, filename)\n",
    "    logger.info(\"File %s uploaded to bucket %s\", filename, bucket_name)\n",
    "\n"
   ]
  },
  {
   "cell_type": "code",
   "execution_count": 9,
   "metadata": {},
   "outputs": [
    {
     "name": "stderr",
     "output_type": "stream",
     "text": [
      "INFO:__main__:Bucket csv-centre-steeleye-aryaroop created in region ap-south-1\n",
      "INFO:__main__:File final-output.csv uploaded to bucket csv-centre-steeleye-aryaroop\n"
     ]
    }
   ],
   "source": [
    "# Set the AWS access key, secret key, region, bucket name, and file name.\n",
    "access_key = \"ACCESS-KEY\"\n",
    "secret_key = \"SECRET-ACCESS-KEY\"\n",
    "region = \"ap-south-1\"\n",
    "file_name = \"final-output.csv\"\n",
    "bucket_name = \"csv-centre-steeleye-aryaroop\"\n",
    "\n",
    "# Call the function to perform S3 operations.\n",
    "s3_operations(access_key, secret_key, region, bucket_name, file_name)\n"
   ]
  },
  {
   "cell_type": "code",
   "execution_count": null,
   "metadata": {},
   "outputs": [],
   "source": []
  }
 ],
 "metadata": {
  "kernelspec": {
   "display_name": "Python 3",
   "language": "python",
   "name": "python3"
  },
  "language_info": {
   "codemirror_mode": {
    "name": "ipython",
    "version": 3
   },
   "file_extension": ".py",
   "mimetype": "text/x-python",
   "name": "python",
   "nbconvert_exporter": "python",
   "pygments_lexer": "ipython3",
   "version": "3.9.13"
  }
 },
 "nbformat": 4,
 "nbformat_minor": 0
}
